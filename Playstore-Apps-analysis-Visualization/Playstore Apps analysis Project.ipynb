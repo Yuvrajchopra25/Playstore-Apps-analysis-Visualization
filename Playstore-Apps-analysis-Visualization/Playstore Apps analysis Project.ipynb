{
 "cells": [
  {
   "cell_type": "markdown",
   "id": "f4bed518",
   "metadata": {},
   "source": [
    "## Module 1"
   ]
  },
  {
   "cell_type": "markdown",
   "id": "de9cdc51",
   "metadata": {},
   "source": [
    "### Playstore_apps file"
   ]
  },
  {
   "cell_type": "code",
   "execution_count": 3,
   "id": "a3d5697e",
   "metadata": {},
   "outputs": [],
   "source": [
    "import numpy as np;\n",
    "import pandas as pd;\n",
    "from numpy import nan;\n",
    "\n",
    "# read the csv file\n",
    "file = pd.read_csv(r\"C:\\Users\\jagad\\Downloads\\playstoreliveproj Drive FIle\\playstoreliveproj\\playstore_apps.csv\",index_col='App');"
   ]
  },
  {
   "cell_type": "code",
   "execution_count": 4,
   "id": "ffb3b92e",
   "metadata": {},
   "outputs": [
    {
     "data": {
      "text/html": [
       "<div>\n",
       "<style scoped>\n",
       "    .dataframe tbody tr th:only-of-type {\n",
       "        vertical-align: middle;\n",
       "    }\n",
       "\n",
       "    .dataframe tbody tr th {\n",
       "        vertical-align: top;\n",
       "    }\n",
       "\n",
       "    .dataframe thead th {\n",
       "        text-align: right;\n",
       "    }\n",
       "</style>\n",
       "<table border=\"1\" class=\"dataframe\">\n",
       "  <thead>\n",
       "    <tr style=\"text-align: right;\">\n",
       "      <th></th>\n",
       "      <th>Category</th>\n",
       "      <th>Rating</th>\n",
       "      <th>Reviews</th>\n",
       "      <th>Size</th>\n",
       "      <th>Installs</th>\n",
       "      <th>Type</th>\n",
       "      <th>Price</th>\n",
       "      <th>Content Rating</th>\n",
       "      <th>Genres</th>\n",
       "      <th>Last Updated</th>\n",
       "      <th>Current Ver</th>\n",
       "      <th>Android Ver</th>\n",
       "    </tr>\n",
       "    <tr>\n",
       "      <th>App</th>\n",
       "      <th></th>\n",
       "      <th></th>\n",
       "      <th></th>\n",
       "      <th></th>\n",
       "      <th></th>\n",
       "      <th></th>\n",
       "      <th></th>\n",
       "      <th></th>\n",
       "      <th></th>\n",
       "      <th></th>\n",
       "      <th></th>\n",
       "      <th></th>\n",
       "    </tr>\n",
       "  </thead>\n",
       "  <tbody>\n",
       "    <tr>\n",
       "      <th>Photo Editor &amp; Candy Camera &amp; Grid &amp; ScrapBook</th>\n",
       "      <td>ART_AND_DESIGN</td>\n",
       "      <td>4.1</td>\n",
       "      <td>159.0</td>\n",
       "      <td>19M</td>\n",
       "      <td>10000.0</td>\n",
       "      <td>Free</td>\n",
       "      <td>0.0</td>\n",
       "      <td>Everyone</td>\n",
       "      <td>Art &amp; Design</td>\n",
       "      <td>07-01-2018</td>\n",
       "      <td>1.0.0</td>\n",
       "      <td>4.0.3 and up</td>\n",
       "    </tr>\n",
       "    <tr>\n",
       "      <th>Coloring book moana</th>\n",
       "      <td>ART_AND_DESIGN</td>\n",
       "      <td>3.9</td>\n",
       "      <td>967.0</td>\n",
       "      <td>14M</td>\n",
       "      <td>500000.0</td>\n",
       "      <td>Free</td>\n",
       "      <td>0.0</td>\n",
       "      <td>Everyone</td>\n",
       "      <td>Art &amp; Design;Pretend Play</td>\n",
       "      <td>15-01-2018</td>\n",
       "      <td>2.0.0</td>\n",
       "      <td>4.0.3 and up</td>\n",
       "    </tr>\n",
       "    <tr>\n",
       "      <th>U Launcher Lite – FREE Live Cool Themes, Hide Apps</th>\n",
       "      <td>ART_AND_DESIGN</td>\n",
       "      <td>4.7</td>\n",
       "      <td>87510.0</td>\n",
       "      <td>8.7M</td>\n",
       "      <td>5000000.0</td>\n",
       "      <td>Free</td>\n",
       "      <td>0.0</td>\n",
       "      <td>Everyone</td>\n",
       "      <td>Art &amp; Design</td>\n",
       "      <td>01-08-2018</td>\n",
       "      <td>1.2.4</td>\n",
       "      <td>4.0.3 and up</td>\n",
       "    </tr>\n",
       "    <tr>\n",
       "      <th>Sketch - Draw &amp; Paint</th>\n",
       "      <td>ART_AND_DESIGN</td>\n",
       "      <td>4.5</td>\n",
       "      <td>215644.0</td>\n",
       "      <td>25M</td>\n",
       "      <td>50000000.0</td>\n",
       "      <td>Free</td>\n",
       "      <td>0.0</td>\n",
       "      <td>Teen</td>\n",
       "      <td>Art &amp; Design</td>\n",
       "      <td>08-06-2018</td>\n",
       "      <td>Varies with device</td>\n",
       "      <td>4.2 and up</td>\n",
       "    </tr>\n",
       "    <tr>\n",
       "      <th>Pixel Draw - Number Art Coloring Book</th>\n",
       "      <td>ART_AND_DESIGN</td>\n",
       "      <td>4.3</td>\n",
       "      <td>967.0</td>\n",
       "      <td>2.8M</td>\n",
       "      <td>100000.0</td>\n",
       "      <td>Free</td>\n",
       "      <td>0.0</td>\n",
       "      <td>Everyone</td>\n",
       "      <td>Art &amp; Design;Creativity</td>\n",
       "      <td>20-06-2018</td>\n",
       "      <td>1.1</td>\n",
       "      <td>4.4 and up</td>\n",
       "    </tr>\n",
       "  </tbody>\n",
       "</table>\n",
       "</div>"
      ],
      "text/plain": [
       "                                                          Category  Rating  \\\n",
       "App                                                                          \n",
       "Photo Editor & Candy Camera & Grid & ScrapBook      ART_AND_DESIGN     4.1   \n",
       "Coloring book moana                                 ART_AND_DESIGN     3.9   \n",
       "U Launcher Lite – FREE Live Cool Themes, Hide Apps  ART_AND_DESIGN     4.7   \n",
       "Sketch - Draw & Paint                               ART_AND_DESIGN     4.5   \n",
       "Pixel Draw - Number Art Coloring Book               ART_AND_DESIGN     4.3   \n",
       "\n",
       "                                                     Reviews  Size  \\\n",
       "App                                                                  \n",
       "Photo Editor & Candy Camera & Grid & ScrapBook         159.0   19M   \n",
       "Coloring book moana                                    967.0   14M   \n",
       "U Launcher Lite – FREE Live Cool Themes, Hide Apps   87510.0  8.7M   \n",
       "Sketch - Draw & Paint                               215644.0   25M   \n",
       "Pixel Draw - Number Art Coloring Book                  967.0  2.8M   \n",
       "\n",
       "                                                      Installs  Type  Price  \\\n",
       "App                                                                           \n",
       "Photo Editor & Candy Camera & Grid & ScrapBook         10000.0  Free    0.0   \n",
       "Coloring book moana                                   500000.0  Free    0.0   \n",
       "U Launcher Lite – FREE Live Cool Themes, Hide Apps   5000000.0  Free    0.0   \n",
       "Sketch - Draw & Paint                               50000000.0  Free    0.0   \n",
       "Pixel Draw - Number Art Coloring Book                 100000.0  Free    0.0   \n",
       "\n",
       "                                                   Content Rating  \\\n",
       "App                                                                 \n",
       "Photo Editor & Candy Camera & Grid & ScrapBook           Everyone   \n",
       "Coloring book moana                                      Everyone   \n",
       "U Launcher Lite – FREE Live Cool Themes, Hide Apps       Everyone   \n",
       "Sketch - Draw & Paint                                        Teen   \n",
       "Pixel Draw - Number Art Coloring Book                    Everyone   \n",
       "\n",
       "                                                                       Genres  \\\n",
       "App                                                                             \n",
       "Photo Editor & Candy Camera & Grid & ScrapBook                   Art & Design   \n",
       "Coloring book moana                                 Art & Design;Pretend Play   \n",
       "U Launcher Lite – FREE Live Cool Themes, Hide Apps               Art & Design   \n",
       "Sketch - Draw & Paint                                            Art & Design   \n",
       "Pixel Draw - Number Art Coloring Book                 Art & Design;Creativity   \n",
       "\n",
       "                                                   Last Updated  \\\n",
       "App                                                               \n",
       "Photo Editor & Candy Camera & Grid & ScrapBook       07-01-2018   \n",
       "Coloring book moana                                  15-01-2018   \n",
       "U Launcher Lite – FREE Live Cool Themes, Hide Apps   01-08-2018   \n",
       "Sketch - Draw & Paint                                08-06-2018   \n",
       "Pixel Draw - Number Art Coloring Book                20-06-2018   \n",
       "\n",
       "                                                           Current Ver  \\\n",
       "App                                                                      \n",
       "Photo Editor & Candy Camera & Grid & ScrapBook                   1.0.0   \n",
       "Coloring book moana                                              2.0.0   \n",
       "U Launcher Lite – FREE Live Cool Themes, Hide Apps               1.2.4   \n",
       "Sketch - Draw & Paint                               Varies with device   \n",
       "Pixel Draw - Number Art Coloring Book                              1.1   \n",
       "\n",
       "                                                     Android Ver  \n",
       "App                                                               \n",
       "Photo Editor & Candy Camera & Grid & ScrapBook      4.0.3 and up  \n",
       "Coloring book moana                                 4.0.3 and up  \n",
       "U Launcher Lite – FREE Live Cool Themes, Hide Apps  4.0.3 and up  \n",
       "Sketch - Draw & Paint                                 4.2 and up  \n",
       "Pixel Draw - Number Art Coloring Book                 4.4 and up  "
      ]
     },
     "execution_count": 4,
     "metadata": {},
     "output_type": "execute_result"
    }
   ],
   "source": [
    "# printing first five rows\n",
    "file.head()"
   ]
  },
  {
   "cell_type": "code",
   "execution_count": 5,
   "id": "be61da28",
   "metadata": {},
   "outputs": [
    {
     "data": {
      "text/plain": [
       "(10841, 12)"
      ]
     },
     "execution_count": 5,
     "metadata": {},
     "output_type": "execute_result"
    }
   ],
   "source": [
    "# check the shape of the matrix before removing duplicate values\n",
    "file.shape"
   ]
  },
  {
   "cell_type": "code",
   "execution_count": 6,
   "id": "ec74a99e",
   "metadata": {},
   "outputs": [
    {
     "data": {
      "text/plain": [
       "492"
      ]
     },
     "execution_count": 6,
     "metadata": {},
     "output_type": "execute_result"
    }
   ],
   "source": [
    "# check number of rows having duplicate data\n",
    "file.duplicated().sum()"
   ]
  },
  {
   "cell_type": "code",
   "execution_count": 7,
   "id": "66ec5376",
   "metadata": {},
   "outputs": [],
   "source": [
    "# removing duplicate data\n",
    "file.drop_duplicates(keep=False,inplace=True)"
   ]
  },
  {
   "cell_type": "code",
   "execution_count": 8,
   "id": "e8165b9f",
   "metadata": {},
   "outputs": [
    {
     "data": {
      "text/plain": [
       "<bound method DataFrame.info of                                                                Category  \\\n",
       "App                                                                       \n",
       "Photo Editor & Candy Camera & Grid & ScrapBook           ART_AND_DESIGN   \n",
       "Coloring book moana                                      ART_AND_DESIGN   \n",
       "U Launcher Lite – FREE Live Cool Themes, Hide Apps       ART_AND_DESIGN   \n",
       "Sketch - Draw & Paint                                    ART_AND_DESIGN   \n",
       "Pixel Draw - Number Art Coloring Book                    ART_AND_DESIGN   \n",
       "...                                                                 ...   \n",
       "Sya9a Maroc - FR                                                 FAMILY   \n",
       "Fr. Mike Schmitz Audio Teachings                                 FAMILY   \n",
       "Parkinson Exercices FR                                          MEDICAL   \n",
       "The SCP Foundation DB fr nn5n                       BOOKS_AND_REFERENCE   \n",
       "iHoroscope - 2018 Daily Horoscope & Astrology                 LIFESTYLE   \n",
       "\n",
       "                                                    Rating   Reviews  \\\n",
       "App                                                                    \n",
       "Photo Editor & Candy Camera & Grid & ScrapBook         4.1     159.0   \n",
       "Coloring book moana                                    3.9     967.0   \n",
       "U Launcher Lite – FREE Live Cool Themes, Hide Apps     4.7   87510.0   \n",
       "Sketch - Draw & Paint                                  4.5  215644.0   \n",
       "Pixel Draw - Number Art Coloring Book                  4.3     967.0   \n",
       "...                                                    ...       ...   \n",
       "Sya9a Maroc - FR                                       4.5      38.0   \n",
       "Fr. Mike Schmitz Audio Teachings                       5.0       4.0   \n",
       "Parkinson Exercices FR                                 NaN       3.0   \n",
       "The SCP Foundation DB fr nn5n                          4.5     114.0   \n",
       "iHoroscope - 2018 Daily Horoscope & Astrology          4.5  398307.0   \n",
       "\n",
       "                                                                  Size  \\\n",
       "App                                                                      \n",
       "Photo Editor & Candy Camera & Grid & ScrapBook                     19M   \n",
       "Coloring book moana                                                14M   \n",
       "U Launcher Lite – FREE Live Cool Themes, Hide Apps                8.7M   \n",
       "Sketch - Draw & Paint                                              25M   \n",
       "Pixel Draw - Number Art Coloring Book                             2.8M   \n",
       "...                                                                ...   \n",
       "Sya9a Maroc - FR                                                   53M   \n",
       "Fr. Mike Schmitz Audio Teachings                                  3.6M   \n",
       "Parkinson Exercices FR                                            9.5M   \n",
       "The SCP Foundation DB fr nn5n                       Varies with device   \n",
       "iHoroscope - 2018 Daily Horoscope & Astrology                      19M   \n",
       "\n",
       "                                                      Installs  Type  Price  \\\n",
       "App                                                                           \n",
       "Photo Editor & Candy Camera & Grid & ScrapBook         10000.0  Free    0.0   \n",
       "Coloring book moana                                   500000.0  Free    0.0   \n",
       "U Launcher Lite – FREE Live Cool Themes, Hide Apps   5000000.0  Free    0.0   \n",
       "Sketch - Draw & Paint                               50000000.0  Free    0.0   \n",
       "Pixel Draw - Number Art Coloring Book                 100000.0  Free    0.0   \n",
       "...                                                        ...   ...    ...   \n",
       "Sya9a Maroc - FR                                        5000.0  Free    0.0   \n",
       "Fr. Mike Schmitz Audio Teachings                         100.0  Free    0.0   \n",
       "Parkinson Exercices FR                                  1000.0  Free    0.0   \n",
       "The SCP Foundation DB fr nn5n                           1000.0  Free    0.0   \n",
       "iHoroscope - 2018 Daily Horoscope & Astrology       10000000.0  Free    0.0   \n",
       "\n",
       "                                                   Content Rating  \\\n",
       "App                                                                 \n",
       "Photo Editor & Candy Camera & Grid & ScrapBook           Everyone   \n",
       "Coloring book moana                                      Everyone   \n",
       "U Launcher Lite – FREE Live Cool Themes, Hide Apps       Everyone   \n",
       "Sketch - Draw & Paint                                        Teen   \n",
       "Pixel Draw - Number Art Coloring Book                    Everyone   \n",
       "...                                                           ...   \n",
       "Sya9a Maroc - FR                                         Everyone   \n",
       "Fr. Mike Schmitz Audio Teachings                         Everyone   \n",
       "Parkinson Exercices FR                                   Everyone   \n",
       "The SCP Foundation DB fr nn5n                          Mature 17+   \n",
       "iHoroscope - 2018 Daily Horoscope & Astrology            Everyone   \n",
       "\n",
       "                                                                       Genres  \\\n",
       "App                                                                             \n",
       "Photo Editor & Candy Camera & Grid & ScrapBook                   Art & Design   \n",
       "Coloring book moana                                 Art & Design;Pretend Play   \n",
       "U Launcher Lite – FREE Live Cool Themes, Hide Apps               Art & Design   \n",
       "Sketch - Draw & Paint                                            Art & Design   \n",
       "Pixel Draw - Number Art Coloring Book                 Art & Design;Creativity   \n",
       "...                                                                       ...   \n",
       "Sya9a Maroc - FR                                                    Education   \n",
       "Fr. Mike Schmitz Audio Teachings                                    Education   \n",
       "Parkinson Exercices FR                                                Medical   \n",
       "The SCP Foundation DB fr nn5n                               Books & Reference   \n",
       "iHoroscope - 2018 Daily Horoscope & Astrology                       Lifestyle   \n",
       "\n",
       "                                                   Last Updated  \\\n",
       "App                                                               \n",
       "Photo Editor & Candy Camera & Grid & ScrapBook       07-01-2018   \n",
       "Coloring book moana                                  15-01-2018   \n",
       "U Launcher Lite – FREE Live Cool Themes, Hide Apps   01-08-2018   \n",
       "Sketch - Draw & Paint                                08-06-2018   \n",
       "Pixel Draw - Number Art Coloring Book                20-06-2018   \n",
       "...                                                         ...   \n",
       "Sya9a Maroc - FR                                     25-07-2017   \n",
       "Fr. Mike Schmitz Audio Teachings                     06-07-2018   \n",
       "Parkinson Exercices FR                               20-01-2017   \n",
       "The SCP Foundation DB fr nn5n                        19-01-2015   \n",
       "iHoroscope - 2018 Daily Horoscope & Astrology        25-07-2018   \n",
       "\n",
       "                                                           Current Ver  \\\n",
       "App                                                                      \n",
       "Photo Editor & Candy Camera & Grid & ScrapBook                   1.0.0   \n",
       "Coloring book moana                                              2.0.0   \n",
       "U Launcher Lite – FREE Live Cool Themes, Hide Apps               1.2.4   \n",
       "Sketch - Draw & Paint                               Varies with device   \n",
       "Pixel Draw - Number Art Coloring Book                              1.1   \n",
       "...                                                                ...   \n",
       "Sya9a Maroc - FR                                                  1.48   \n",
       "Fr. Mike Schmitz Audio Teachings                                     1   \n",
       "Parkinson Exercices FR                                               1   \n",
       "The SCP Foundation DB fr nn5n                       Varies with device   \n",
       "iHoroscope - 2018 Daily Horoscope & Astrology       Varies with device   \n",
       "\n",
       "                                                           Android Ver  \n",
       "App                                                                     \n",
       "Photo Editor & Candy Camera & Grid & ScrapBook            4.0.3 and up  \n",
       "Coloring book moana                                       4.0.3 and up  \n",
       "U Launcher Lite – FREE Live Cool Themes, Hide Apps        4.0.3 and up  \n",
       "Sketch - Draw & Paint                                       4.2 and up  \n",
       "Pixel Draw - Number Art Coloring Book                       4.4 and up  \n",
       "...                                                                ...  \n",
       "Sya9a Maroc - FR                                            4.1 and up  \n",
       "Fr. Mike Schmitz Audio Teachings                            4.1 and up  \n",
       "Parkinson Exercices FR                                      2.2 and up  \n",
       "The SCP Foundation DB fr nn5n                       Varies with device  \n",
       "iHoroscope - 2018 Daily Horoscope & Astrology       Varies with device  \n",
       "\n",
       "[9930 rows x 12 columns]>"
      ]
     },
     "execution_count": 8,
     "metadata": {},
     "output_type": "execute_result"
    }
   ],
   "source": [
    "# basic information regarding file\n",
    "file.info"
   ]
  },
  {
   "cell_type": "code",
   "execution_count": 9,
   "id": "8f514ee7",
   "metadata": {},
   "outputs": [
    {
     "data": {
      "text/plain": [
       "(9930, 12)"
      ]
     },
     "execution_count": 9,
     "metadata": {},
     "output_type": "execute_result"
    }
   ],
   "source": [
    "# check the shape of the matrix after removing duplicate values\n",
    "file.shape"
   ]
  },
  {
   "cell_type": "code",
   "execution_count": 10,
   "id": "de249645",
   "metadata": {},
   "outputs": [
    {
     "data": {
      "text/plain": [
       "0"
      ]
     },
     "execution_count": 10,
     "metadata": {},
     "output_type": "execute_result"
    }
   ],
   "source": [
    "# check number of rows having duplicate data after removal\n",
    "file.duplicated().sum()"
   ]
  },
  {
   "cell_type": "code",
   "execution_count": 12,
   "id": "4109aee8",
   "metadata": {},
   "outputs": [
    {
     "name": "stdout",
     "output_type": "stream",
     "text": [
      "['ART_AND_DESIGN' 'AUTO_AND_VEHICLES' 'BEAUTY' 'BOOKS_AND_REFERENCE'\n",
      " 'BUSINESS' 'COMICS' 'COMMUNICATION' 'DATING' 'EDUCATION' 'ENTERTAINMENT'\n",
      " 'EVENTS' 'FINANCE' 'FOOD_AND_DRINK' 'HEALTH_AND_FITNESS' 'HOUSE_AND_HOME'\n",
      " 'LIBRARIES_AND_DEMO' 'LIFESTYLE' 'GAME' 'FAMILY' 'MEDICAL' 'SOCIAL'\n",
      " 'SHOPPING' 'PHOTOGRAPHY' 'SPORTS' 'TRAVEL_AND_LOCAL' 'TOOLS'\n",
      " 'PERSONALIZATION' 'PRODUCTIVITY' 'PARENTING' 'WEATHER' 'VIDEO_PLAYERS'\n",
      " 'NEWS_AND_MAGAZINES' 'MAPS_AND_NAVIGATION' '1.9']\n"
     ]
    }
   ],
   "source": [
    "print(file['Category'].unique())"
   ]
  },
  {
   "cell_type": "code",
   "execution_count": 13,
   "id": "5f5214a0",
   "metadata": {},
   "outputs": [
    {
     "name": "stdout",
     "output_type": "stream",
     "text": [
      "                                        Category  Rating  Reviews    Size  \\\n",
      "App                                                                         \n",
      "Life Made WI-Fi Touchscreen Photo Frame      1.9    19.0      NaN  1,000+   \n",
      "\n",
      "                                         Installs Type  Price Content Rating  \\\n",
      "App                                                                            \n",
      "Life Made WI-Fi Touchscreen Photo Frame       NaN    0    NaN            NaN   \n",
      "\n",
      "                                                    Genres Last Updated  \\\n",
      "App                                                                       \n",
      "Life Made WI-Fi Touchscreen Photo Frame  February 11, 2018          NaN   \n",
      "\n",
      "                                        Current Ver Android Ver  \n",
      "App                                                              \n",
      "Life Made WI-Fi Touchscreen Photo Frame  4.0 and up         NaN  \n"
     ]
    }
   ],
   "source": [
    "print(file[file['Category']=='1.9'])"
   ]
  },
  {
   "cell_type": "code",
   "execution_count": 16,
   "id": "d9ea7952",
   "metadata": {},
   "outputs": [
    {
     "ename": "KeyError",
     "evalue": "\"['Life Made WI-Fi Touchscreen Photo Frame'] not found in axis\"",
     "output_type": "error",
     "traceback": [
      "\u001b[1;31m---------------------------------------------------------------------------\u001b[0m",
      "\u001b[1;31mKeyError\u001b[0m                                  Traceback (most recent call last)",
      "Cell \u001b[1;32mIn [16], line 1\u001b[0m\n\u001b[1;32m----> 1\u001b[0m file\u001b[39m.\u001b[39;49mdrop(\u001b[39m\"\u001b[39;49m\u001b[39mLife Made WI-Fi Touchscreen Photo Frame\u001b[39;49m\u001b[39m\"\u001b[39;49m,inplace \u001b[39m=\u001b[39;49m \u001b[39mTrue\u001b[39;49;00m)\n",
      "File \u001b[1;32mc:\\Python310\\lib\\site-packages\\pandas\\util\\_decorators.py:331\u001b[0m, in \u001b[0;36mdeprecate_nonkeyword_arguments.<locals>.decorate.<locals>.wrapper\u001b[1;34m(*args, **kwargs)\u001b[0m\n\u001b[0;32m    325\u001b[0m \u001b[39mif\u001b[39;00m \u001b[39mlen\u001b[39m(args) \u001b[39m>\u001b[39m num_allow_args:\n\u001b[0;32m    326\u001b[0m     warnings\u001b[39m.\u001b[39mwarn(\n\u001b[0;32m    327\u001b[0m         msg\u001b[39m.\u001b[39mformat(arguments\u001b[39m=\u001b[39m_format_argument_list(allow_args)),\n\u001b[0;32m    328\u001b[0m         \u001b[39mFutureWarning\u001b[39;00m,\n\u001b[0;32m    329\u001b[0m         stacklevel\u001b[39m=\u001b[39mfind_stack_level(),\n\u001b[0;32m    330\u001b[0m     )\n\u001b[1;32m--> 331\u001b[0m \u001b[39mreturn\u001b[39;00m func(\u001b[39m*\u001b[39margs, \u001b[39m*\u001b[39m\u001b[39m*\u001b[39mkwargs)\n",
      "File \u001b[1;32mc:\\Python310\\lib\\site-packages\\pandas\\core\\frame.py:5388\u001b[0m, in \u001b[0;36mDataFrame.drop\u001b[1;34m(self, labels, axis, index, columns, level, inplace, errors)\u001b[0m\n\u001b[0;32m   5240\u001b[0m \u001b[39m@deprecate_nonkeyword_arguments\u001b[39m(version\u001b[39m=\u001b[39m\u001b[39mNone\u001b[39;00m, allowed_args\u001b[39m=\u001b[39m[\u001b[39m\"\u001b[39m\u001b[39mself\u001b[39m\u001b[39m\"\u001b[39m, \u001b[39m\"\u001b[39m\u001b[39mlabels\u001b[39m\u001b[39m\"\u001b[39m])\n\u001b[0;32m   5241\u001b[0m \u001b[39mdef\u001b[39;00m \u001b[39mdrop\u001b[39m(  \u001b[39m# type: ignore[override]\u001b[39;00m\n\u001b[0;32m   5242\u001b[0m     \u001b[39mself\u001b[39m,\n\u001b[1;32m   (...)\u001b[0m\n\u001b[0;32m   5249\u001b[0m     errors: IgnoreRaise \u001b[39m=\u001b[39m \u001b[39m\"\u001b[39m\u001b[39mraise\u001b[39m\u001b[39m\"\u001b[39m,\n\u001b[0;32m   5250\u001b[0m ) \u001b[39m-\u001b[39m\u001b[39m>\u001b[39m DataFrame \u001b[39m|\u001b[39m \u001b[39mNone\u001b[39;00m:\n\u001b[0;32m   5251\u001b[0m     \u001b[39m\"\"\"\u001b[39;00m\n\u001b[0;32m   5252\u001b[0m \u001b[39m    Drop specified labels from rows or columns.\u001b[39;00m\n\u001b[0;32m   5253\u001b[0m \n\u001b[1;32m   (...)\u001b[0m\n\u001b[0;32m   5386\u001b[0m \u001b[39m            weight  1.0     0.8\u001b[39;00m\n\u001b[0;32m   5387\u001b[0m \u001b[39m    \"\"\"\u001b[39;00m\n\u001b[1;32m-> 5388\u001b[0m     \u001b[39mreturn\u001b[39;00m \u001b[39msuper\u001b[39;49m()\u001b[39m.\u001b[39;49mdrop(\n\u001b[0;32m   5389\u001b[0m         labels\u001b[39m=\u001b[39;49mlabels,\n\u001b[0;32m   5390\u001b[0m         axis\u001b[39m=\u001b[39;49maxis,\n\u001b[0;32m   5391\u001b[0m         index\u001b[39m=\u001b[39;49mindex,\n\u001b[0;32m   5392\u001b[0m         columns\u001b[39m=\u001b[39;49mcolumns,\n\u001b[0;32m   5393\u001b[0m         level\u001b[39m=\u001b[39;49mlevel,\n\u001b[0;32m   5394\u001b[0m         inplace\u001b[39m=\u001b[39;49minplace,\n\u001b[0;32m   5395\u001b[0m         errors\u001b[39m=\u001b[39;49merrors,\n\u001b[0;32m   5396\u001b[0m     )\n",
      "File \u001b[1;32mc:\\Python310\\lib\\site-packages\\pandas\\util\\_decorators.py:331\u001b[0m, in \u001b[0;36mdeprecate_nonkeyword_arguments.<locals>.decorate.<locals>.wrapper\u001b[1;34m(*args, **kwargs)\u001b[0m\n\u001b[0;32m    325\u001b[0m \u001b[39mif\u001b[39;00m \u001b[39mlen\u001b[39m(args) \u001b[39m>\u001b[39m num_allow_args:\n\u001b[0;32m    326\u001b[0m     warnings\u001b[39m.\u001b[39mwarn(\n\u001b[0;32m    327\u001b[0m         msg\u001b[39m.\u001b[39mformat(arguments\u001b[39m=\u001b[39m_format_argument_list(allow_args)),\n\u001b[0;32m    328\u001b[0m         \u001b[39mFutureWarning\u001b[39;00m,\n\u001b[0;32m    329\u001b[0m         stacklevel\u001b[39m=\u001b[39mfind_stack_level(),\n\u001b[0;32m    330\u001b[0m     )\n\u001b[1;32m--> 331\u001b[0m \u001b[39mreturn\u001b[39;00m func(\u001b[39m*\u001b[39margs, \u001b[39m*\u001b[39m\u001b[39m*\u001b[39mkwargs)\n",
      "File \u001b[1;32mc:\\Python310\\lib\\site-packages\\pandas\\core\\generic.py:4505\u001b[0m, in \u001b[0;36mNDFrame.drop\u001b[1;34m(self, labels, axis, index, columns, level, inplace, errors)\u001b[0m\n\u001b[0;32m   4503\u001b[0m \u001b[39mfor\u001b[39;00m axis, labels \u001b[39min\u001b[39;00m axes\u001b[39m.\u001b[39mitems():\n\u001b[0;32m   4504\u001b[0m     \u001b[39mif\u001b[39;00m labels \u001b[39mis\u001b[39;00m \u001b[39mnot\u001b[39;00m \u001b[39mNone\u001b[39;00m:\n\u001b[1;32m-> 4505\u001b[0m         obj \u001b[39m=\u001b[39m obj\u001b[39m.\u001b[39;49m_drop_axis(labels, axis, level\u001b[39m=\u001b[39;49mlevel, errors\u001b[39m=\u001b[39;49merrors)\n\u001b[0;32m   4507\u001b[0m \u001b[39mif\u001b[39;00m inplace:\n\u001b[0;32m   4508\u001b[0m     \u001b[39mself\u001b[39m\u001b[39m.\u001b[39m_update_inplace(obj)\n",
      "File \u001b[1;32mc:\\Python310\\lib\\site-packages\\pandas\\core\\generic.py:4575\u001b[0m, in \u001b[0;36mNDFrame._drop_axis\u001b[1;34m(self, labels, axis, level, errors, only_slice)\u001b[0m\n\u001b[0;32m   4573\u001b[0m     labels_missing \u001b[39m=\u001b[39m (axis\u001b[39m.\u001b[39mget_indexer_for(labels) \u001b[39m==\u001b[39m \u001b[39m-\u001b[39m\u001b[39m1\u001b[39m)\u001b[39m.\u001b[39many()\n\u001b[0;32m   4574\u001b[0m     \u001b[39mif\u001b[39;00m errors \u001b[39m==\u001b[39m \u001b[39m\"\u001b[39m\u001b[39mraise\u001b[39m\u001b[39m\"\u001b[39m \u001b[39mand\u001b[39;00m labels_missing:\n\u001b[1;32m-> 4575\u001b[0m         \u001b[39mraise\u001b[39;00m \u001b[39mKeyError\u001b[39;00m(\u001b[39mf\u001b[39m\u001b[39m\"\u001b[39m\u001b[39m{\u001b[39;00mlabels\u001b[39m}\u001b[39;00m\u001b[39m not found in axis\u001b[39m\u001b[39m\"\u001b[39m)\n\u001b[0;32m   4577\u001b[0m \u001b[39mif\u001b[39;00m is_extension_array_dtype(mask\u001b[39m.\u001b[39mdtype):\n\u001b[0;32m   4578\u001b[0m     \u001b[39m# GH#45860\u001b[39;00m\n\u001b[0;32m   4579\u001b[0m     mask \u001b[39m=\u001b[39m mask\u001b[39m.\u001b[39mto_numpy(dtype\u001b[39m=\u001b[39m\u001b[39mbool\u001b[39m)\n",
      "\u001b[1;31mKeyError\u001b[0m: \"['Life Made WI-Fi Touchscreen Photo Frame'] not found in axis\""
     ]
    }
   ],
   "source": [
    "file.drop(\"Life Made WI-Fi Touchscreen Photo Frame\",inplace = True)"
   ]
  },
  {
   "cell_type": "code",
   "execution_count": 17,
   "id": "a30dc9c3",
   "metadata": {},
   "outputs": [
    {
     "name": "stdout",
     "output_type": "stream",
     "text": [
      "['ART_AND_DESIGN' 'AUTO_AND_VEHICLES' 'BEAUTY' 'BOOKS_AND_REFERENCE'\n",
      " 'BUSINESS' 'COMICS' 'COMMUNICATION' 'DATING' 'EDUCATION' 'ENTERTAINMENT'\n",
      " 'EVENTS' 'FINANCE' 'FOOD_AND_DRINK' 'HEALTH_AND_FITNESS' 'HOUSE_AND_HOME'\n",
      " 'LIBRARIES_AND_DEMO' 'LIFESTYLE' 'GAME' 'FAMILY' 'MEDICAL' 'SOCIAL'\n",
      " 'SHOPPING' 'PHOTOGRAPHY' 'SPORTS' 'TRAVEL_AND_LOCAL' 'TOOLS'\n",
      " 'PERSONALIZATION' 'PRODUCTIVITY' 'PARENTING' 'WEATHER' 'VIDEO_PLAYERS'\n",
      " 'NEWS_AND_MAGAZINES' 'MAPS_AND_NAVIGATION']\n"
     ]
    }
   ],
   "source": [
    "print(file['Category'].unique())"
   ]
  },
  {
   "cell_type": "code",
   "execution_count": 18,
   "id": "9d2a97cb",
   "metadata": {},
   "outputs": [
    {
     "name": "stdout",
     "output_type": "stream",
     "text": [
      "[4.1 3.9 4.7 4.5 4.3 4.4 3.8 4.2 4.6 3.2 4.  nan 4.8 4.9 3.6 3.7 3.3 3.4\n",
      " 3.5 3.1 5.  2.6 3.  2.5 1.  1.9 2.9 2.8 2.3 2.2 1.7 2.  1.8 2.7 2.4 1.6\n",
      " 2.1 1.4 1.5 1.2]\n"
     ]
    }
   ],
   "source": [
    "print(file['Rating'].unique())\n"
   ]
  },
  {
   "cell_type": "code",
   "execution_count": 25,
   "id": "6246374d",
   "metadata": {},
   "outputs": [
    {
     "name": "stdout",
     "output_type": "stream",
     "text": [
      "Empty DataFrame\n",
      "Columns: [Category, Rating, Reviews, Size, Installs, Type, Price, Content Rating, Genres, Last Updated, Current Ver, Android Ver]\n",
      "Index: []\n"
     ]
    }
   ],
   "source": [
    "print(file[file['Rating']=='nan'])\n"
   ]
  },
  {
   "cell_type": "code",
   "execution_count": 51,
   "id": "99840069",
   "metadata": {},
   "outputs": [
    {
     "data": {
      "text/plain": [
       "App\n",
       "Photo Editor & Candy Camera & Grid & ScrapBook        4.1\n",
       "Coloring book moana                                   3.9\n",
       "U Launcher Lite – FREE Live Cool Themes, Hide Apps    4.7\n",
       "Sketch - Draw & Paint                                 4.5\n",
       "Pixel Draw - Number Art Coloring Book                 4.3\n",
       "                                                     ... \n",
       "Sya9a Maroc - FR                                      4.5\n",
       "Fr. Mike Schmitz Audio Teachings                      5.0\n",
       "Parkinson Exercices FR                                  0\n",
       "The SCP Foundation DB fr nn5n                         4.5\n",
       "iHoroscope - 2018 Daily Horoscope & Astrology         4.5\n",
       "Name: Rating, Length: 9929, dtype: object"
      ]
     },
     "execution_count": 51,
     "metadata": {},
     "output_type": "execute_result"
    }
   ],
   "source": [
    "file.Rating.fillna('0')"
   ]
  },
  {
   "cell_type": "code",
   "execution_count": 52,
   "id": "08dc9b72",
   "metadata": {},
   "outputs": [
    {
     "name": "stdout",
     "output_type": "stream",
     "text": [
      "[1.59000e+02 9.67000e+02 8.75100e+04 ... 6.03000e+02 1.19500e+03\n",
      " 3.98307e+05]\n"
     ]
    }
   ],
   "source": [
    "print(file['Reviews'].unique())"
   ]
  },
  {
   "cell_type": "code",
   "execution_count": 53,
   "id": "32e5dd79",
   "metadata": {},
   "outputs": [
    {
     "data": {
      "text/plain": [
       "App\n",
       "Photo Editor & Candy Camera & Grid & ScrapBook           159.0\n",
       "Coloring book moana                                      967.0\n",
       "U Launcher Lite – FREE Live Cool Themes, Hide Apps     87510.0\n",
       "Sketch - Draw & Paint                                 215644.0\n",
       "Pixel Draw - Number Art Coloring Book                    967.0\n",
       "                                                        ...   \n",
       "Sya9a Maroc - FR                                          38.0\n",
       "Fr. Mike Schmitz Audio Teachings                           4.0\n",
       "Parkinson Exercices FR                                     3.0\n",
       "The SCP Foundation DB fr nn5n                            114.0\n",
       "iHoroscope - 2018 Daily Horoscope & Astrology         398307.0\n",
       "Name: Reviews, Length: 9929, dtype: float64"
      ]
     },
     "execution_count": 53,
     "metadata": {},
     "output_type": "execute_result"
    }
   ],
   "source": [
    "file.Reviews.fillna(0)"
   ]
  },
  {
   "cell_type": "code",
   "execution_count": 54,
   "id": "46233c98",
   "metadata": {},
   "outputs": [
    {
     "name": "stdout",
     "output_type": "stream",
     "text": [
      "['19M' '14M' '8.7M' '25M' '2.8M' '5.6M' '29M' '33M' '3.1M' '28M' '12M'\n",
      " '20M' '21M' '37M' '2.7M' '5.5M' '17M' '39M' '31M' '4.2M' '7.0M' '23M'\n",
      " '6.0M' '6.1M' '4.6M' '9.2M' '5.2M' '11M' '24M' 'Varies with device'\n",
      " '9.4M' '15M' '10M' '1.2M' '26M' '8.0M' '7.9M' '56M' '57M' '35M' '54M'\n",
      " '201k' '3.6M' '5.7M' '8.6M' '2.4M' '27M' '2.5M' '16M' '3.4M' '8.9M'\n",
      " '3.9M' '2.9M' '38M' '32M' '5.4M' '18M' '1.1M' '2.2M' '4.5M' '9.8M' '52M'\n",
      " '9.0M' '6.7M' '30M' '2.6M' '7.1M' '3.7M' '22M' '7.4M' '6.4M' '3.2M'\n",
      " '8.2M' '9.9M' '4.9M' '9.5M' '5.0M' '5.9M' '13M' '73M' '6.8M' '3.5M'\n",
      " '4.0M' '2.3M' '7.2M' '2.1M' '42M' '7.3M' '9.1M' '55M' '23k' '6.5M' '1.5M'\n",
      " '7.5M' '46M' '8.3M' '4.3M' '4.7M' '3.3M' '40M' '7.8M' '8.8M' '6.6M'\n",
      " '5.1M' '61M' '66M' '79k' '8.4M' '118k' '44M' '695k' '1.6M' '6.2M' '18k'\n",
      " '53M' '1.4M' '3.0M' '5.8M' '3.8M' '9.6M' '45M' '63M' '49M' '4.4M' '70M'\n",
      " '6.9M' '9.3M' '10.0M' '8.1M' '36M' '41M' '51M' '84M' '97M' '2.0M' '1.9M'\n",
      " '1.8M' '5.3M' '48M' '47M' '556k' '526k' '76M' '7.6M' '59M' '9.7M' '78M'\n",
      " '8.5M' '72M' '43M' '7.7M' '77M' '6.3M' '334k' '34M' '93M' '65M' '79M'\n",
      " '100M' '58M' '50M' '68M' '64M' '94M' '232k' '99M' '624k' '95M' '8.5k'\n",
      " '41k' '292k' '11k' '80M' '1.7M' '67M' '74M' '62M' '69M' '75M' '85M' '82M'\n",
      " '96M' '87M' '60M' '71M' '98M' '86M' '91M' '81M' '92M' '83M' '88M' '862k'\n",
      " '899k' '378k' '266k' '375k' '1.3M' '975k' '980k' '4.1M' '89M' '696k'\n",
      " '544k' '525k' '920k' '779k' '853k' '720k' '713k' '4.8M' '772k' '318k'\n",
      " '58k' '241k' '196k' '857k' '51k' '953k' '865k' '251k' '930k' '540k'\n",
      " '313k' '746k' '203k' '26k' '314k' '239k' '371k' '220k' '730k' '756k'\n",
      " '91k' '293k' '17k' '74k' '14k' '317k' '78k' '924k' '902k' '818k' '81k'\n",
      " '939k' '169k' '45k' '475k' '965k' '90M' '545k' '61k' '283k' '655k' '714k'\n",
      " '93k' '872k' '121k' '322k' '1.0M' '976k' '172k' '238k' '549k' '206k'\n",
      " '954k' '444k' '717k' '210k' '609k' '308k' '705k' '306k' '904k' '473k'\n",
      " '175k' '350k' '383k' '454k' '421k' '70k' '812k' '442k' '842k' '417k'\n",
      " '412k' '459k' '478k' '335k' '782k' '721k' '430k' '429k' '192k' '200k'\n",
      " '460k' '728k' '496k' '816k' '414k' '506k' '887k' '613k' '243k' '569k'\n",
      " '778k' '683k' '592k' '319k' '186k' '840k' '647k' '191k' '373k' '437k'\n",
      " '598k' '716k' '585k' '982k' '222k' '219k' '55k' '948k' '323k' '691k'\n",
      " '511k' '951k' '963k' '25k' '554k' '351k' '27k' '82k' '208k' '913k' '514k'\n",
      " '551k' '29k' '103k' '898k' '743k' '116k' '153k' '209k' '353k' '499k'\n",
      " '173k' '597k' '809k' '122k' '411k' '400k' '801k' '787k' '237k' '50k'\n",
      " '643k' '986k' '97k' '516k' '837k' '780k' '961k' '269k' '20k' '498k'\n",
      " '600k' '749k' '642k' '881k' '72k' '656k' '601k' '221k' '228k' '108k'\n",
      " '940k' '176k' '33k' '663k' '34k' '942k' '259k' '164k' '458k' '245k'\n",
      " '629k' '28k' '288k' '775k' '785k' '636k' '916k' '994k' '309k' '485k'\n",
      " '914k' '903k' '608k' '500k' '54k' '562k' '847k' '957k' '688k' '811k'\n",
      " '270k' '48k' '329k' '523k' '921k' '874k' '981k' '784k' '280k' '24k'\n",
      " '518k' '754k' '892k' '154k' '860k' '364k' '387k' '626k' '161k' '879k'\n",
      " '39k' '970k' '170k' '141k' '160k' '144k' '143k' '190k' '376k' '193k'\n",
      " '246k' '73k' '658k' '992k' '253k' '420k' '404k' '470k' '226k' '240k'\n",
      " '89k' '234k' '257k' '861k' '467k' '157k' '44k' '676k' '67k' '552k' '885k'\n",
      " '1020k' '582k' '619k']\n"
     ]
    }
   ],
   "source": [
    "print(file['Size'].unique())"
   ]
  },
  {
   "cell_type": "code",
   "execution_count": 56,
   "id": "6309ed05",
   "metadata": {},
   "outputs": [
    {
     "data": {
      "text/plain": [
       "App\n",
       "Photo Editor & Candy Camera & Grid & ScrapBook                       19M\n",
       "Coloring book moana                                                  14M\n",
       "U Launcher Lite – FREE Live Cool Themes, Hide Apps                  8.7M\n",
       "Sketch - Draw & Paint                                                25M\n",
       "Pixel Draw - Number Art Coloring Book                               2.8M\n",
       "                                                             ...        \n",
       "Sya9a Maroc - FR                                                     53M\n",
       "Fr. Mike Schmitz Audio Teachings                                    3.6M\n",
       "Parkinson Exercices FR                                              9.5M\n",
       "The SCP Foundation DB fr nn5n                         Varies with device\n",
       "iHoroscope - 2018 Daily Horoscope & Astrology                        19M\n",
       "Name: Size, Length: 9929, dtype: object"
      ]
     },
     "execution_count": 56,
     "metadata": {},
     "output_type": "execute_result"
    }
   ],
   "source": [
    "file.Size.fillna(\"NaN\")"
   ]
  },
  {
   "cell_type": "code",
   "execution_count": 57,
   "id": "c6c853c3",
   "metadata": {},
   "outputs": [
    {
     "name": "stdout",
     "output_type": "stream",
     "text": [
      "[1.e+04 5.e+05 5.e+06 5.e+07 1.e+05 5.e+04 1.e+06 1.e+07 5.e+03 1.e+08\n",
      " 1.e+09 1.e+03 5.e+08 5.e+01 1.e+02 5.e+02 1.e+01 1.e+00 5.e+00 0.e+00]\n"
     ]
    }
   ],
   "source": [
    "print(file['Installs'].unique())"
   ]
  },
  {
   "cell_type": "code",
   "execution_count": 58,
   "id": "84f572ca",
   "metadata": {},
   "outputs": [
    {
     "name": "stdout",
     "output_type": "stream",
     "text": [
      "['Free' 'Paid' nan]\n"
     ]
    }
   ],
   "source": [
    "print(file['Type'].unique())"
   ]
  },
  {
   "cell_type": "code",
   "execution_count": 59,
   "id": "4c49cedf",
   "metadata": {},
   "outputs": [
    {
     "data": {
      "text/plain": [
       "App\n",
       "Photo Editor & Candy Camera & Grid & ScrapBook        Free\n",
       "Coloring book moana                                   Free\n",
       "U Launcher Lite – FREE Live Cool Themes, Hide Apps    Free\n",
       "Sketch - Draw & Paint                                 Free\n",
       "Pixel Draw - Number Art Coloring Book                 Free\n",
       "                                                      ... \n",
       "Sya9a Maroc - FR                                      Free\n",
       "Fr. Mike Schmitz Audio Teachings                      Free\n",
       "Parkinson Exercices FR                                Free\n",
       "The SCP Foundation DB fr nn5n                         Free\n",
       "iHoroscope - 2018 Daily Horoscope & Astrology         Free\n",
       "Name: Type, Length: 9929, dtype: object"
      ]
     },
     "execution_count": 59,
     "metadata": {},
     "output_type": "execute_result"
    }
   ],
   "source": [
    "file.Type.fillna(\"NaN\")"
   ]
  },
  {
   "cell_type": "code",
   "execution_count": 65,
   "id": "7c717c8b",
   "metadata": {},
   "outputs": [
    {
     "data": {
      "text/plain": [
       "App\n",
       "Photo Editor & Candy Camera & Grid & ScrapBook        Free\n",
       "Coloring book moana                                   Free\n",
       "U Launcher Lite – FREE Live Cool Themes, Hide Apps    Free\n",
       "Sketch - Draw & Paint                                 Free\n",
       "Pixel Draw - Number Art Coloring Book                 Free\n",
       "                                                      ... \n",
       "Sya9a Maroc - FR                                      Free\n",
       "Fr. Mike Schmitz Audio Teachings                      Free\n",
       "Parkinson Exercices FR                                Free\n",
       "The SCP Foundation DB fr nn5n                         Free\n",
       "iHoroscope - 2018 Daily Horoscope & Astrology         Free\n",
       "Name: Type, Length: 9928, dtype: object"
      ]
     },
     "execution_count": 65,
     "metadata": {},
     "output_type": "execute_result"
    }
   ],
   "source": [
    "file.Type.dropna()"
   ]
  },
  {
   "cell_type": "code",
   "execution_count": 62,
   "id": "469a304e",
   "metadata": {},
   "outputs": [
    {
     "name": "stdout",
     "output_type": "stream",
     "text": [
      "['Free' 'Paid' nan]\n"
     ]
    }
   ],
   "source": [
    "print(file['Type'].unique())"
   ]
  },
  {
   "cell_type": "code",
   "execution_count": 66,
   "id": "99c9f7f0",
   "metadata": {},
   "outputs": [
    {
     "name": "stdout",
     "output_type": "stream",
     "text": [
      "[  0.     3.99   6.99   1.49   2.99   7.99   5.99   4.99   3.49   1.99\n",
      "   9.99   7.49   0.99   1.     2.49  10.99   1.5   14.99  15.99  74.99\n",
      "  39.99   3.95  29.99   4.49   1.7    8.99   2.     3.88  25.99 399.99\n",
      "  17.99 400.     3.02   1.76   4.84   4.77   1.61   2.5   19.99   1.59\n",
      "   6.49   1.29   5.    13.99 299.99 379.99  37.99  18.99 389.99  19.9\n",
      "   8.49   1.75  11.99  14.     4.85  46.99   5.49 109.99 154.99   3.08\n",
      "   2.59   4.8    1.96  19.4    3.9    4.59  15.46  10.     3.04  12.99\n",
      "   4.29   2.6    3.28   4.6   28.99   2.95   2.9    1.97  24.99 200.\n",
      "  89.99   2.56  30.99   3.61 394.99   1.26  16.99   1.2    1.04]\n"
     ]
    }
   ],
   "source": [
    "print(file['Price'].unique())"
   ]
  },
  {
   "cell_type": "code",
   "execution_count": 68,
   "id": "1e6ebaa7",
   "metadata": {},
   "outputs": [
    {
     "name": "stdout",
     "output_type": "stream",
     "text": [
      "['Everyone' 'Teen' 'Everyone 10+' 'Mature 17+' 'Adults only 18+' 'Unrated']\n"
     ]
    }
   ],
   "source": [
    "print(file['Content Rating'].unique())"
   ]
  },
  {
   "cell_type": "code",
   "execution_count": 72,
   "id": "2fac6838",
   "metadata": {},
   "outputs": [
    {
     "data": {
      "text/plain": [
       "App\n",
       "Photo Editor & Candy Camera & Grid & ScrapBook          Everyone\n",
       "Coloring book moana                                     Everyone\n",
       "U Launcher Lite – FREE Live Cool Themes, Hide Apps      Everyone\n",
       "Sketch - Draw & Paint                                       Teen\n",
       "Pixel Draw - Number Art Coloring Book                   Everyone\n",
       "                                                         ...    \n",
       "Sya9a Maroc - FR                                        Everyone\n",
       "Fr. Mike Schmitz Audio Teachings                        Everyone\n",
       "Parkinson Exercices FR                                  Everyone\n",
       "The SCP Foundation DB fr nn5n                         Mature 17+\n",
       "iHoroscope - 2018 Daily Horoscope & Astrology           Everyone\n",
       "Name: Content Rating, Length: 9929, dtype: object"
      ]
     },
     "execution_count": 72,
     "metadata": {},
     "output_type": "execute_result"
    }
   ],
   "source": [
    "file['Content Rating'].dropna()"
   ]
  },
  {
   "cell_type": "code",
   "execution_count": 73,
   "id": "21aa1f62",
   "metadata": {},
   "outputs": [
    {
     "name": "stdout",
     "output_type": "stream",
     "text": [
      "['Art & Design' 'Art & Design;Pretend Play' 'Art & Design;Creativity'\n",
      " 'Art & Design;Action & Adventure' 'Auto & Vehicles' 'Beauty'\n",
      " 'Books & Reference' 'Business' 'Comics' 'Comics;Creativity'\n",
      " 'Communication' 'Dating' 'Education;Education' 'Education'\n",
      " 'Education;Creativity' 'Education;Music & Video'\n",
      " 'Education;Action & Adventure' 'Education;Pretend Play'\n",
      " 'Education;Brain Games' 'Entertainment' 'Entertainment;Music & Video'\n",
      " 'Entertainment;Brain Games' 'Entertainment;Creativity' 'Events' 'Finance'\n",
      " 'Food & Drink' 'Health & Fitness' 'House & Home' 'Libraries & Demo'\n",
      " 'Lifestyle' 'Lifestyle;Pretend Play' 'Adventure;Action & Adventure'\n",
      " 'Arcade' 'Casual' 'Card' 'Casual;Pretend Play' 'Action' 'Strategy'\n",
      " 'Puzzle' 'Sports' 'Music' 'Word' 'Racing' 'Casual;Creativity'\n",
      " 'Casual;Action & Adventure' 'Adventure' 'Board' 'Trivia' 'Simulation'\n",
      " 'Role Playing' 'Simulation;Education' 'Action;Action & Adventure'\n",
      " 'Casual;Brain Games' 'Simulation;Action & Adventure'\n",
      " 'Educational;Creativity' 'Puzzle;Brain Games' 'Educational;Education'\n",
      " 'Card;Brain Games' 'Educational;Brain Games' 'Educational;Pretend Play'\n",
      " 'Entertainment;Education' 'Casual;Education' 'Music;Music & Video'\n",
      " 'Racing;Action & Adventure' 'Arcade;Pretend Play'\n",
      " 'Simulation;Pretend Play' 'Puzzle;Creativity' 'Sports;Action & Adventure'\n",
      " 'Educational;Action & Adventure' 'Arcade;Action & Adventure'\n",
      " 'Entertainment;Action & Adventure' 'Puzzle;Action & Adventure'\n",
      " 'Strategy;Action & Adventure' 'Music & Audio;Music & Video'\n",
      " 'Health & Fitness;Education' 'Adventure;Education' 'Board;Brain Games'\n",
      " 'Board;Action & Adventure' 'Board;Pretend Play'\n",
      " 'Entertainment;Pretend Play' 'Video Players & Editors;Creativity'\n",
      " 'Card;Action & Adventure' 'Medical' 'Social' 'Shopping' 'Photography'\n",
      " 'Travel & Local' 'Travel & Local;Action & Adventure' 'Tools'\n",
      " 'Tools;Education' 'Personalization' 'Productivity' 'Parenting'\n",
      " 'Parenting;Music & Video' 'Parenting;Education' 'Parenting;Brain Games'\n",
      " 'Weather' 'Video Players & Editors'\n",
      " 'Video Players & Editors;Music & Video' 'News & Magazines'\n",
      " 'Maps & Navigation' 'Health & Fitness;Action & Adventure'\n",
      " 'Role Playing;Pretend Play' 'Educational' 'Casino'\n",
      " 'Adventure;Brain Games' 'Role Playing;Action & Adventure'\n",
      " 'Trivia;Education' 'Lifestyle;Education' 'Books & Reference;Creativity'\n",
      " 'Books & Reference;Education' 'Puzzle;Education' 'Role Playing;Education'\n",
      " 'Role Playing;Brain Games' 'Strategy;Education' 'Racing;Pretend Play'\n",
      " 'Communication;Creativity' 'Strategy;Creativity']\n"
     ]
    }
   ],
   "source": [
    "print(file['Genres'].unique())"
   ]
  },
  {
   "cell_type": "code",
   "execution_count": 74,
   "id": "bfe7010d",
   "metadata": {},
   "outputs": [
    {
     "data": {
      "text/plain": [
       "App\n",
       "Photo Editor & Candy Camera & Grid & ScrapBook                     Art & Design\n",
       "Coloring book moana                                   Art & Design;Pretend Play\n",
       "U Launcher Lite – FREE Live Cool Themes, Hide Apps                 Art & Design\n",
       "Sketch - Draw & Paint                                              Art & Design\n",
       "Pixel Draw - Number Art Coloring Book                   Art & Design;Creativity\n",
       "                                                                ...            \n",
       "Sya9a Maroc - FR                                                      Education\n",
       "Fr. Mike Schmitz Audio Teachings                                      Education\n",
       "Parkinson Exercices FR                                                  Medical\n",
       "The SCP Foundation DB fr nn5n                                 Books & Reference\n",
       "iHoroscope - 2018 Daily Horoscope & Astrology                         Lifestyle\n",
       "Name: Genres, Length: 9929, dtype: object"
      ]
     },
     "execution_count": 74,
     "metadata": {},
     "output_type": "execute_result"
    }
   ],
   "source": [
    "file.Genres.dropna()"
   ]
  },
  {
   "cell_type": "code",
   "execution_count": 75,
   "id": "17c9354f",
   "metadata": {},
   "outputs": [
    {
     "name": "stdout",
     "output_type": "stream",
     "text": [
      "['Art & Design' 'Art & Design;Pretend Play' 'Art & Design;Creativity'\n",
      " 'Art & Design;Action & Adventure' 'Auto & Vehicles' 'Beauty'\n",
      " 'Books & Reference' 'Business' 'Comics' 'Comics;Creativity'\n",
      " 'Communication' 'Dating' 'Education;Education' 'Education'\n",
      " 'Education;Creativity' 'Education;Music & Video'\n",
      " 'Education;Action & Adventure' 'Education;Pretend Play'\n",
      " 'Education;Brain Games' 'Entertainment' 'Entertainment;Music & Video'\n",
      " 'Entertainment;Brain Games' 'Entertainment;Creativity' 'Events' 'Finance'\n",
      " 'Food & Drink' 'Health & Fitness' 'House & Home' 'Libraries & Demo'\n",
      " 'Lifestyle' 'Lifestyle;Pretend Play' 'Adventure;Action & Adventure'\n",
      " 'Arcade' 'Casual' 'Card' 'Casual;Pretend Play' 'Action' 'Strategy'\n",
      " 'Puzzle' 'Sports' 'Music' 'Word' 'Racing' 'Casual;Creativity'\n",
      " 'Casual;Action & Adventure' 'Adventure' 'Board' 'Trivia' 'Simulation'\n",
      " 'Role Playing' 'Simulation;Education' 'Action;Action & Adventure'\n",
      " 'Casual;Brain Games' 'Simulation;Action & Adventure'\n",
      " 'Educational;Creativity' 'Puzzle;Brain Games' 'Educational;Education'\n",
      " 'Card;Brain Games' 'Educational;Brain Games' 'Educational;Pretend Play'\n",
      " 'Entertainment;Education' 'Casual;Education' 'Music;Music & Video'\n",
      " 'Racing;Action & Adventure' 'Arcade;Pretend Play'\n",
      " 'Simulation;Pretend Play' 'Puzzle;Creativity' 'Sports;Action & Adventure'\n",
      " 'Educational;Action & Adventure' 'Arcade;Action & Adventure'\n",
      " 'Entertainment;Action & Adventure' 'Puzzle;Action & Adventure'\n",
      " 'Strategy;Action & Adventure' 'Music & Audio;Music & Video'\n",
      " 'Health & Fitness;Education' 'Adventure;Education' 'Board;Brain Games'\n",
      " 'Board;Action & Adventure' 'Board;Pretend Play'\n",
      " 'Entertainment;Pretend Play' 'Video Players & Editors;Creativity'\n",
      " 'Card;Action & Adventure' 'Medical' 'Social' 'Shopping' 'Photography'\n",
      " 'Travel & Local' 'Travel & Local;Action & Adventure' 'Tools'\n",
      " 'Tools;Education' 'Personalization' 'Productivity' 'Parenting'\n",
      " 'Parenting;Music & Video' 'Parenting;Education' 'Parenting;Brain Games'\n",
      " 'Weather' 'Video Players & Editors'\n",
      " 'Video Players & Editors;Music & Video' 'News & Magazines'\n",
      " 'Maps & Navigation' 'Health & Fitness;Action & Adventure'\n",
      " 'Role Playing;Pretend Play' 'Educational' 'Casino'\n",
      " 'Adventure;Brain Games' 'Role Playing;Action & Adventure'\n",
      " 'Trivia;Education' 'Lifestyle;Education' 'Books & Reference;Creativity'\n",
      " 'Books & Reference;Education' 'Puzzle;Education' 'Role Playing;Education'\n",
      " 'Role Playing;Brain Games' 'Strategy;Education' 'Racing;Pretend Play'\n",
      " 'Communication;Creativity' 'Strategy;Creativity']\n"
     ]
    }
   ],
   "source": [
    "print(file['Genres'].unique())"
   ]
  },
  {
   "cell_type": "code",
   "execution_count": 76,
   "id": "fce2cd8b",
   "metadata": {},
   "outputs": [
    {
     "name": "stdout",
     "output_type": "stream",
     "text": [
      "['07-01-2018' '15-01-2018' '01-08-2018' ... '20-01-2014' '16-02-2014'\n",
      " '23-03-2014']\n"
     ]
    }
   ],
   "source": [
    "print(file['Last Updated'].unique())"
   ]
  },
  {
   "cell_type": "code",
   "execution_count": 78,
   "id": "c4442a90",
   "metadata": {},
   "outputs": [
    {
     "data": {
      "text/plain": [
       "App\n",
       "Photo Editor & Candy Camera & Grid & ScrapBook        07-01-2018\n",
       "Coloring book moana                                   15-01-2018\n",
       "U Launcher Lite – FREE Live Cool Themes, Hide Apps    01-08-2018\n",
       "Sketch - Draw & Paint                                 08-06-2018\n",
       "Pixel Draw - Number Art Coloring Book                 20-06-2018\n",
       "                                                         ...    \n",
       "Sya9a Maroc - FR                                      25-07-2017\n",
       "Fr. Mike Schmitz Audio Teachings                      06-07-2018\n",
       "Parkinson Exercices FR                                20-01-2017\n",
       "The SCP Foundation DB fr nn5n                         19-01-2015\n",
       "iHoroscope - 2018 Daily Horoscope & Astrology         25-07-2018\n",
       "Name: Last Updated, Length: 9929, dtype: object"
      ]
     },
     "execution_count": 78,
     "metadata": {},
     "output_type": "execute_result"
    }
   ],
   "source": [
    "file['Last Updated'].fillna(\"NaN\")"
   ]
  },
  {
   "cell_type": "code",
   "execution_count": 79,
   "id": "08188676",
   "metadata": {},
   "outputs": [
    {
     "name": "stdout",
     "output_type": "stream",
     "text": [
      "['07-01-2018' '15-01-2018' '01-08-2018' ... '20-01-2014' '16-02-2014'\n",
      " '23-03-2014']\n"
     ]
    }
   ],
   "source": [
    "print(file['Last Updated'].unique())"
   ]
  },
  {
   "cell_type": "code",
   "execution_count": 81,
   "id": "d457042d",
   "metadata": {},
   "outputs": [
    {
     "name": "stdout",
     "output_type": "stream",
     "text": [
      "['1.0.0' '2.0.0' '1.2.4' ... '1.0.612928' '0.3.4' '2.0.148.0']\n"
     ]
    }
   ],
   "source": [
    "print(file['Current Ver'].unique())"
   ]
  },
  {
   "cell_type": "code",
   "execution_count": 83,
   "id": "350aed49",
   "metadata": {},
   "outputs": [
    {
     "data": {
      "text/plain": [
       "App\n",
       "Photo Editor & Candy Camera & Grid & ScrapBook                     1.0.0\n",
       "Coloring book moana                                                2.0.0\n",
       "U Launcher Lite – FREE Live Cool Themes, Hide Apps                 1.2.4\n",
       "Sketch - Draw & Paint                                 Varies with device\n",
       "Pixel Draw - Number Art Coloring Book                                1.1\n",
       "                                                             ...        \n",
       "Sya9a Maroc - FR                                                    1.48\n",
       "Fr. Mike Schmitz Audio Teachings                                       1\n",
       "Parkinson Exercices FR                                                 1\n",
       "The SCP Foundation DB fr nn5n                         Varies with device\n",
       "iHoroscope - 2018 Daily Horoscope & Astrology         Varies with device\n",
       "Name: Current Ver, Length: 9929, dtype: object"
      ]
     },
     "execution_count": 83,
     "metadata": {},
     "output_type": "execute_result"
    }
   ],
   "source": [
    "file['Current Ver'].fillna(\"NaN\")"
   ]
  },
  {
   "cell_type": "code",
   "execution_count": 84,
   "id": "6778e681",
   "metadata": {},
   "outputs": [
    {
     "name": "stdout",
     "output_type": "stream",
     "text": [
      "['4.0.3 and up' '4.2 and up' '4.4 and up' '2.3 and up' '3.0 and up'\n",
      " '4.1 and up' '4.0 and up' '2.3.3 and up' 'Varies with device'\n",
      " '2.2 and up' '5.0 and up' '6.0 and up' '1.6 and up' '1.5 and up'\n",
      " '2.1 and up' '7.0 and up' '5.1 and up' '4.3 and up' '4.0.3 - 7.1.1'\n",
      " '2.0 and up' '3.2 and up' '4.4W and up' '7.1 and up' '7.0 - 7.1.1'\n",
      " '8.0 and up' '5.0 - 8.0' '3.1 and up' '2.0.1 and up' '4.1 - 7.1.1' nan\n",
      " '5.0 - 6.0' '1.0 and up' '2.2 - 7.1.1' '5.0 - 7.1.1']\n"
     ]
    }
   ],
   "source": [
    "print(file['Android Ver'].unique())"
   ]
  },
  {
   "cell_type": "code",
   "execution_count": 85,
   "id": "f7d877e0",
   "metadata": {},
   "outputs": [
    {
     "data": {
      "text/plain": [
       "App\n",
       "Photo Editor & Candy Camera & Grid & ScrapBook              4.0.3 and up\n",
       "Coloring book moana                                         4.0.3 and up\n",
       "U Launcher Lite – FREE Live Cool Themes, Hide Apps          4.0.3 and up\n",
       "Sketch - Draw & Paint                                         4.2 and up\n",
       "Pixel Draw - Number Art Coloring Book                         4.4 and up\n",
       "                                                             ...        \n",
       "Sya9a Maroc - FR                                              4.1 and up\n",
       "Fr. Mike Schmitz Audio Teachings                              4.1 and up\n",
       "Parkinson Exercices FR                                        2.2 and up\n",
       "The SCP Foundation DB fr nn5n                         Varies with device\n",
       "iHoroscope - 2018 Daily Horoscope & Astrology         Varies with device\n",
       "Name: Android Ver, Length: 9929, dtype: object"
      ]
     },
     "execution_count": 85,
     "metadata": {},
     "output_type": "execute_result"
    }
   ],
   "source": [
    "file['Android Ver'].fillna(\"NaN\")"
   ]
  },
  {
   "cell_type": "code",
   "execution_count": 88,
   "id": "7b869b7b",
   "metadata": {},
   "outputs": [],
   "source": [
    "file.to_csv(\"cleaned_file1.csv\")"
   ]
  },
  {
   "cell_type": "code",
   "execution_count": null,
   "id": "810ac1a5",
   "metadata": {},
   "outputs": [],
   "source": []
  },
  {
   "cell_type": "code",
   "execution_count": null,
   "id": "159453b7",
   "metadata": {},
   "outputs": [],
   "source": []
  },
  {
   "cell_type": "markdown",
   "id": "b698025e",
   "metadata": {},
   "source": [
    "### playstore_reviews file"
   ]
  },
  {
   "cell_type": "code",
   "execution_count": 89,
   "id": "0191f02e",
   "metadata": {},
   "outputs": [],
   "source": [
    "# read the csv file i.e., playstore_reviews file\n",
    "reviews_file = pd.read_csv(r\"C:\\Users\\jagad\\Downloads\\playstoreliveproj Drive FIle\\playstoreliveproj\\playstore_reviews.csv\",index_col='App');"
   ]
  },
  {
   "cell_type": "code",
   "execution_count": 90,
   "id": "7adb528d",
   "metadata": {},
   "outputs": [
    {
     "data": {
      "text/html": [
       "<div>\n",
       "<style scoped>\n",
       "    .dataframe tbody tr th:only-of-type {\n",
       "        vertical-align: middle;\n",
       "    }\n",
       "\n",
       "    .dataframe tbody tr th {\n",
       "        vertical-align: top;\n",
       "    }\n",
       "\n",
       "    .dataframe thead th {\n",
       "        text-align: right;\n",
       "    }\n",
       "</style>\n",
       "<table border=\"1\" class=\"dataframe\">\n",
       "  <thead>\n",
       "    <tr style=\"text-align: right;\">\n",
       "      <th></th>\n",
       "      <th>Translated_Review</th>\n",
       "      <th>Sentiment</th>\n",
       "      <th>Sentiment_Polarity</th>\n",
       "      <th>Sentiment_Subjectivity</th>\n",
       "    </tr>\n",
       "    <tr>\n",
       "      <th>App</th>\n",
       "      <th></th>\n",
       "      <th></th>\n",
       "      <th></th>\n",
       "      <th></th>\n",
       "    </tr>\n",
       "  </thead>\n",
       "  <tbody>\n",
       "    <tr>\n",
       "      <th>10 Best Foods for You</th>\n",
       "      <td>I like eat delicious food. That's I'm cooking ...</td>\n",
       "      <td>Positive</td>\n",
       "      <td>1.00</td>\n",
       "      <td>0.533333</td>\n",
       "    </tr>\n",
       "    <tr>\n",
       "      <th>10 Best Foods for You</th>\n",
       "      <td>This help eating healthy exercise regular basis</td>\n",
       "      <td>Positive</td>\n",
       "      <td>0.25</td>\n",
       "      <td>0.288462</td>\n",
       "    </tr>\n",
       "    <tr>\n",
       "      <th>10 Best Foods for You</th>\n",
       "      <td>NaN</td>\n",
       "      <td>NaN</td>\n",
       "      <td>NaN</td>\n",
       "      <td>NaN</td>\n",
       "    </tr>\n",
       "    <tr>\n",
       "      <th>10 Best Foods for You</th>\n",
       "      <td>Works great especially going grocery store</td>\n",
       "      <td>Positive</td>\n",
       "      <td>0.40</td>\n",
       "      <td>0.875000</td>\n",
       "    </tr>\n",
       "    <tr>\n",
       "      <th>10 Best Foods for You</th>\n",
       "      <td>Best idea us</td>\n",
       "      <td>Positive</td>\n",
       "      <td>1.00</td>\n",
       "      <td>0.300000</td>\n",
       "    </tr>\n",
       "  </tbody>\n",
       "</table>\n",
       "</div>"
      ],
      "text/plain": [
       "                                                       Translated_Review  \\\n",
       "App                                                                        \n",
       "10 Best Foods for You  I like eat delicious food. That's I'm cooking ...   \n",
       "10 Best Foods for You    This help eating healthy exercise regular basis   \n",
       "10 Best Foods for You                                                NaN   \n",
       "10 Best Foods for You         Works great especially going grocery store   \n",
       "10 Best Foods for You                                       Best idea us   \n",
       "\n",
       "                      Sentiment  Sentiment_Polarity  Sentiment_Subjectivity  \n",
       "App                                                                          \n",
       "10 Best Foods for You  Positive                1.00                0.533333  \n",
       "10 Best Foods for You  Positive                0.25                0.288462  \n",
       "10 Best Foods for You       NaN                 NaN                     NaN  \n",
       "10 Best Foods for You  Positive                0.40                0.875000  \n",
       "10 Best Foods for You  Positive                1.00                0.300000  "
      ]
     },
     "execution_count": 90,
     "metadata": {},
     "output_type": "execute_result"
    }
   ],
   "source": [
    "# printing first five rows\n",
    "reviews_file.head()"
   ]
  },
  {
   "cell_type": "code",
   "execution_count": 91,
   "id": "2dbebc08",
   "metadata": {},
   "outputs": [
    {
     "data": {
      "text/plain": [
       "(64295, 4)"
      ]
     },
     "execution_count": 91,
     "metadata": {},
     "output_type": "execute_result"
    }
   ],
   "source": [
    "# check the shape of the matrix before removing duplicate values\n",
    "reviews_file.shape"
   ]
  },
  {
   "cell_type": "code",
   "execution_count": 92,
   "id": "bc87a640",
   "metadata": {},
   "outputs": [
    {
     "data": {
      "text/plain": [
       "36299"
      ]
     },
     "execution_count": 92,
     "metadata": {},
     "output_type": "execute_result"
    }
   ],
   "source": [
    "# check number of rows having duplicate data\n",
    "reviews_file.duplicated().sum()"
   ]
  },
  {
   "cell_type": "code",
   "execution_count": 93,
   "id": "074560c7",
   "metadata": {},
   "outputs": [],
   "source": [
    "# remove duplicate data\n",
    "reviews_file.drop_duplicates(keep=False,inplace=True)"
   ]
  },
  {
   "cell_type": "code",
   "execution_count": 94,
   "id": "741fdae6",
   "metadata": {},
   "outputs": [
    {
     "data": {
      "text/plain": [
       "<bound method DataFrame.info of                                                                   Translated_Review  \\\n",
       "App                                                                                   \n",
       "104 找工作 - 找工作 找打工 找兼職 履歷健檢 履歷診療室                                Almost mobile phone   \n",
       "104 找工作 - 找工作 找打工 找兼職 履歷健檢 履歷診療室  Very effective, efficient convenient find avai...   \n",
       "104 找工作 - 找工作 找打工 找兼職 履歷健檢 履歷診療室                                     Easy intuitive   \n",
       "104 找工作 - 找工作 找打工 找兼職 履歷健檢 履歷診療室                      good searching job internship   \n",
       "104 找工作 - 找工作 找打工 找兼職 履歷健檢 履歷診療室                Not bad, price little bit expensive   \n",
       "...                                                                             ...   \n",
       "Housing-Real Estate & Property    Most ads older many agents ..not much owner po...   \n",
       "Housing-Real Estate & Property    If photos posted portal load, fit purpose. I'm...   \n",
       "Housing-Real Estate & Property    Dumb app, I wanted post property rent give opt...   \n",
       "Housing-Real Estate & Property    I property business got link SMS happy perform...   \n",
       "Housing-Real Estate & Property    Useless app, I searched flats kondapur, Hydera...   \n",
       "\n",
       "                                 Sentiment  Sentiment_Polarity  \\\n",
       "App                                                              \n",
       "104 找工作 - 找工作 找打工 找兼職 履歷健檢 履歷診療室   Neutral            0.000000   \n",
       "104 找工作 - 找工作 找打工 找兼職 履歷健檢 履歷診療室  Positive            0.626667   \n",
       "104 找工作 - 找工作 找打工 找兼職 履歷健檢 履歷診療室  Positive            0.433333   \n",
       "104 找工作 - 找工作 找打工 找兼職 履歷健檢 履歷診療室  Positive            0.700000   \n",
       "104 找工作 - 找工作 找打工 找兼職 履歷健檢 履歷診療室  Negative           -0.112500   \n",
       "...                                    ...                 ...   \n",
       "Housing-Real Estate & Property    Positive            0.173333   \n",
       "Housing-Real Estate & Property    Positive            0.225000   \n",
       "Housing-Real Estate & Property    Negative           -0.287500   \n",
       "Housing-Real Estate & Property    Positive            0.800000   \n",
       "Housing-Real Estate & Property    Negative           -0.316667   \n",
       "\n",
       "                                  Sentiment_Subjectivity  \n",
       "App                                                       \n",
       "104 找工作 - 找工作 找打工 找兼職 履歷健檢 履歷診療室                0.000000  \n",
       "104 找工作 - 找工作 找打工 找兼職 履歷健檢 履歷診療室                0.666667  \n",
       "104 找工作 - 找工作 找打工 找兼職 履歷健檢 履歷診療室                0.833333  \n",
       "104 找工作 - 找工作 找打工 找兼職 履歷健檢 履歷診療室                0.600000  \n",
       "104 找工作 - 找工作 找打工 找兼職 履歷健檢 履歷診療室                0.622222  \n",
       "...                                                  ...  \n",
       "Housing-Real Estate & Property                  0.486667  \n",
       "Housing-Real Estate & Property                  0.447222  \n",
       "Housing-Real Estate & Property                  0.250000  \n",
       "Housing-Real Estate & Property                  1.000000  \n",
       "Housing-Real Estate & Property                  0.400000  \n",
       "\n",
       "[22593 rows x 4 columns]>"
      ]
     },
     "execution_count": 94,
     "metadata": {},
     "output_type": "execute_result"
    }
   ],
   "source": [
    "# basic information regarding file\n",
    "reviews_file.info"
   ]
  },
  {
   "cell_type": "code",
   "execution_count": 95,
   "id": "d49bc551",
   "metadata": {},
   "outputs": [
    {
     "data": {
      "text/plain": [
       "(22593, 4)"
      ]
     },
     "execution_count": 95,
     "metadata": {},
     "output_type": "execute_result"
    }
   ],
   "source": [
    "# check the shape of the matrix after removing duplicate values\n",
    "reviews_file.shape"
   ]
  },
  {
   "cell_type": "code",
   "execution_count": 96,
   "id": "ed902e01",
   "metadata": {},
   "outputs": [
    {
     "data": {
      "text/plain": [
       "0"
      ]
     },
     "execution_count": 96,
     "metadata": {},
     "output_type": "execute_result"
    }
   ],
   "source": [
    "# check number of rows having duplicate data after removal\n",
    "reviews_file.duplicated().sum()"
   ]
  },
  {
   "cell_type": "code",
   "execution_count": 99,
   "id": "4106fcd4",
   "metadata": {},
   "outputs": [
    {
     "name": "stdout",
     "output_type": "stream",
     "text": [
      "['Almost mobile phone'\n",
      " 'Very effective, efficient convenient find available jobs. Keep good work power 104 Job Search.'\n",
      " 'Easy intuitive' ...\n",
      " 'Dumb app, I wanted post property rent give option. Website work. Waste time space phone.'\n",
      " 'I property business got link SMS happy performance still guys need raise bar guys Cheers'\n",
      " 'Useless app, I searched flats kondapur, Hyderabad . None number reachable I know flats unavailable would keep posts active']\n"
     ]
    }
   ],
   "source": [
    "print(reviews_file['Translated_Review'].unique())"
   ]
  },
  {
   "cell_type": "code",
   "execution_count": 100,
   "id": "50bb79ae",
   "metadata": {},
   "outputs": [
    {
     "data": {
      "text/plain": [
       "App\n",
       "104 找工作 - 找工作 找打工 找兼職 履歷健檢 履歷診療室                                  Almost mobile phone\n",
       "104 找工作 - 找工作 找打工 找兼職 履歷健檢 履歷診療室    Very effective, efficient convenient find avai...\n",
       "104 找工作 - 找工作 找打工 找兼職 履歷健檢 履歷診療室                                       Easy intuitive\n",
       "104 找工作 - 找工作 找打工 找兼職 履歷健檢 履歷診療室                        good searching job internship\n",
       "104 找工作 - 找工作 找打工 找兼職 履歷健檢 履歷診療室                  Not bad, price little bit expensive\n",
       "                                                          ...                        \n",
       "Housing-Real Estate & Property      Most ads older many agents ..not much owner po...\n",
       "Housing-Real Estate & Property      If photos posted portal load, fit purpose. I'm...\n",
       "Housing-Real Estate & Property      Dumb app, I wanted post property rent give opt...\n",
       "Housing-Real Estate & Property      I property business got link SMS happy perform...\n",
       "Housing-Real Estate & Property      Useless app, I searched flats kondapur, Hydera...\n",
       "Name: Translated_Review, Length: 22593, dtype: object"
      ]
     },
     "execution_count": 100,
     "metadata": {},
     "output_type": "execute_result"
    }
   ],
   "source": [
    "reviews_file[\"Translated_Review\"].dropna()"
   ]
  },
  {
   "cell_type": "code",
   "execution_count": 101,
   "id": "453abcd5",
   "metadata": {},
   "outputs": [
    {
     "name": "stdout",
     "output_type": "stream",
     "text": [
      "['Neutral' 'Positive' 'Negative']\n"
     ]
    }
   ],
   "source": [
    "print(reviews_file['Sentiment'].unique())"
   ]
  },
  {
   "cell_type": "code",
   "execution_count": 102,
   "id": "b4f20762",
   "metadata": {},
   "outputs": [
    {
     "data": {
      "text/plain": [
       "App\n",
       "104 找工作 - 找工作 找打工 找兼職 履歷健檢 履歷診療室     Neutral\n",
       "104 找工作 - 找工作 找打工 找兼職 履歷健檢 履歷診療室    Positive\n",
       "104 找工作 - 找工作 找打工 找兼職 履歷健檢 履歷診療室    Positive\n",
       "104 找工作 - 找工作 找打工 找兼職 履歷健檢 履歷診療室    Positive\n",
       "104 找工作 - 找工作 找打工 找兼職 履歷健檢 履歷診療室    Negative\n",
       "                                      ...   \n",
       "Housing-Real Estate & Property      Positive\n",
       "Housing-Real Estate & Property      Positive\n",
       "Housing-Real Estate & Property      Negative\n",
       "Housing-Real Estate & Property      Positive\n",
       "Housing-Real Estate & Property      Negative\n",
       "Name: Sentiment, Length: 22593, dtype: object"
      ]
     },
     "execution_count": 102,
     "metadata": {},
     "output_type": "execute_result"
    }
   ],
   "source": [
    "reviews_file[\"Sentiment\"].dropna()"
   ]
  },
  {
   "cell_type": "code",
   "execution_count": 103,
   "id": "5f3184e7",
   "metadata": {},
   "outputs": [
    {
     "name": "stdout",
     "output_type": "stream",
     "text": [
      "[ 0.          0.62666667  0.43333333 ... -0.52857143 -0.37777778\n",
      "  0.17333333]\n"
     ]
    }
   ],
   "source": [
    "print(reviews_file['Sentiment_Polarity'].unique())"
   ]
  },
  {
   "cell_type": "code",
   "execution_count": 105,
   "id": "a79b80d4",
   "metadata": {},
   "outputs": [
    {
     "data": {
      "text/plain": [
       "App\n",
       "104 找工作 - 找工作 找打工 找兼職 履歷健檢 履歷診療室    0.000000\n",
       "104 找工作 - 找工作 找打工 找兼職 履歷健檢 履歷診療室    0.626667\n",
       "104 找工作 - 找工作 找打工 找兼職 履歷健檢 履歷診療室    0.433333\n",
       "104 找工作 - 找工作 找打工 找兼職 履歷健檢 履歷診療室    0.700000\n",
       "104 找工作 - 找工作 找打工 找兼職 履歷健檢 履歷診療室   -0.112500\n",
       "                                      ...   \n",
       "Housing-Real Estate & Property      0.173333\n",
       "Housing-Real Estate & Property      0.225000\n",
       "Housing-Real Estate & Property     -0.287500\n",
       "Housing-Real Estate & Property      0.800000\n",
       "Housing-Real Estate & Property     -0.316667\n",
       "Name: Sentiment_Polarity, Length: 22593, dtype: float64"
      ]
     },
     "execution_count": 105,
     "metadata": {},
     "output_type": "execute_result"
    }
   ],
   "source": [
    "reviews_file[\"Sentiment_Polarity\"].dropna()"
   ]
  },
  {
   "cell_type": "code",
   "execution_count": 106,
   "id": "18f73231",
   "metadata": {},
   "outputs": [
    {
     "data": {
      "text/plain": [
       "App\n",
       "104 找工作 - 找工作 找打工 找兼職 履歷健檢 履歷診療室    0.000000\n",
       "104 找工作 - 找工作 找打工 找兼職 履歷健檢 履歷診療室    0.666667\n",
       "104 找工作 - 找工作 找打工 找兼職 履歷健檢 履歷診療室    0.833333\n",
       "104 找工作 - 找工作 找打工 找兼職 履歷健檢 履歷診療室    0.600000\n",
       "104 找工作 - 找工作 找打工 找兼職 履歷健檢 履歷診療室    0.622222\n",
       "                                      ...   \n",
       "Housing-Real Estate & Property      0.486667\n",
       "Housing-Real Estate & Property      0.447222\n",
       "Housing-Real Estate & Property      0.250000\n",
       "Housing-Real Estate & Property      1.000000\n",
       "Housing-Real Estate & Property      0.400000\n",
       "Name: Sentiment_Subjectivity, Length: 22593, dtype: float64"
      ]
     },
     "execution_count": 106,
     "metadata": {},
     "output_type": "execute_result"
    }
   ],
   "source": [
    "reviews_file[\"Sentiment_Subjectivity\"].dropna()"
   ]
  },
  {
   "cell_type": "code",
   "execution_count": 108,
   "id": "299b7820",
   "metadata": {},
   "outputs": [],
   "source": [
    "reviews_file.to_csv(\"cleaned_file2.csv\")"
   ]
  },
  {
   "cell_type": "code",
   "execution_count": null,
   "id": "19acd598",
   "metadata": {},
   "outputs": [],
   "source": []
  },
  {
   "cell_type": "code",
   "execution_count": null,
   "id": "7e74adac",
   "metadata": {},
   "outputs": [],
   "source": []
  },
  {
   "cell_type": "code",
   "execution_count": null,
   "id": "70078012",
   "metadata": {},
   "outputs": [],
   "source": []
  },
  {
   "cell_type": "code",
   "execution_count": null,
   "id": "141f74e0",
   "metadata": {},
   "outputs": [],
   "source": []
  }
 ],
 "metadata": {
  "kernelspec": {
   "display_name": "Python 3",
   "language": "python",
   "name": "python3"
  },
  "language_info": {
   "codemirror_mode": {
    "name": "ipython",
    "version": 3
   },
   "file_extension": ".py",
   "mimetype": "text/x-python",
   "name": "python",
   "nbconvert_exporter": "python",
   "pygments_lexer": "ipython3",
   "version": "3.10.8"
  },
  "vscode": {
   "interpreter": {
    "hash": "369f2c481f4da34e4445cda3fffd2e751bd1c4d706f27375911949ba6bb62e1c"
   }
  }
 },
 "nbformat": 4,
 "nbformat_minor": 5
}
